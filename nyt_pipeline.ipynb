{
 "cells": [
  {
   "cell_type": "code",
   "execution_count": 1,
   "id": "a1d51ae2-f156-49e9-8458-02eaff3185eb",
   "metadata": {},
   "outputs": [
    {
     "name": "stderr",
     "output_type": "stream",
     "text": [
      "2025-02-17 14:40:49,357 - INFO - Pipeline execution started.\n",
      "2025-02-17 14:40:49,364 - INFO - Connected to MySQL successfully.\n"
     ]
    }
   ],
   "source": [
    "import mysql.connector\n",
    "import os\n",
    "import requests\n",
    "import json\n",
    "import logging\n",
    "\n",
    "# Setup logging\n",
    "logging.basicConfig(\n",
    "    filename=\"nyt_pipeline.log\",\n",
    "    level=logging.INFO,\n",
    "    format=\"%(asctime)s - %(levelname)s - %(message)s\",\n",
    "    filemode=\"a\")  # Append mode to retain logs\n",
    "\n",
    "console = logging.StreamHandler()\n",
    "console.setLevel(logging.INFO)\n",
    "formatter = logging.Formatter(\"%(asctime)s - %(levelname)s - %(message)s\")\n",
    "console.setFormatter(formatter)\n",
    "logging.getLogger(\"\").addHandler(console)\n",
    "\n",
    "logging.info(\"Pipeline execution started.\")\n",
    "\n",
    "# Load credentials from environment variables\n",
    "password = os.getenv(\"MYSQL_PASSWORD\")\n",
    "slack_webhook_url = os.getenv(\"SLACK_WEBHOOK_URL\")\n",
    "\n",
    "# Ensure all required environment variables are set\n",
    "if not password or not slack_webhook_url:\n",
    "    error_message = \"Missing environment variables: MYSQL_PASSWORD or SLACK_WEBHOOK_URL\"\n",
    "    logging.error(error_message)\n",
    "    raise ValueError(error_message)\n",
    "\n",
    "try:\n",
    "    # Attempt to connect to MySQL\n",
    "    conn = mysql.connector.connect(\n",
    "        host=\"localhost\",\n",
    "        user=\"root\",\n",
    "        password=password,\n",
    "        database=\"nyt_pipeline\")\n",
    "    \n",
    "    logging.info(\"Connected to MySQL successfully.\")\n",
    "    conn.close()\n",
    "\n",
    "except mysql.connector.Error as err:\n",
    "    error_message = f\"MySQL Connection Failed: {err}\"\n",
    "    logging.error(error_message)\n",
    "\n",
    "    # Send Slack notification\n",
    "    message = {\n",
    "        \"text\": f\":warning: *NYT Pipeline Alert* :warning:\\n\\n{error_message}\"}\n",
    "\n",
    "    slack_response = requests.post(\n",
    "        slack_webhook_url, \n",
    "        data=json.dumps(message), \n",
    "        headers={\"Content-Type\": \"application/json\"})\n",
    "\n",
    "    if slack_response.status_code == 200:\n",
    "        logging.info(\"Slack notification sent successfully.\")\n",
    "    else:\n",
    "        logging.error(f\"Failed to send Slack alert: {slack_response.text}\")\n",
    "\n",
    "    raise\n"
   ]
  },
  {
   "cell_type": "code",
   "execution_count": 2,
   "id": "15739e3d-ffd2-48a7-9370-46c2965a7c48",
   "metadata": {},
   "outputs": [
    {
     "name": "stdout",
     "output_type": "stream",
     "text": [
      "Fetched 38 articles.\n"
     ]
    }
   ],
   "source": [
    "API_KEY = os.getenv(\"NYT_API_KEY\")\n",
    "URL = f\"https://api.nytimes.com/svc/topstories/v2/world.json?api-key={API_KEY}\"\n",
    "\n",
    "response = requests.get(URL)\n",
    "\n",
    "if response.status_code == 200:\n",
    "    data = response.json()  # Convert response to JSON\n",
    "    print(\"Fetched\", len(data['results']), \"articles.\")\n",
    "else:\n",
    "    print(\"Error:\", response.status_code, response.text)\n",
    "    data = {\"results\": []}"
   ]
  },
  {
   "cell_type": "code",
   "execution_count": 3,
   "id": "82456899-25e4-4543-86a4-6e40a9406ab6",
   "metadata": {},
   "outputs": [
    {
     "name": "stdout",
     "output_type": "stream",
     "text": [
      "\n",
      "First 5 articles:\n",
      "('nyt://article/66414f3d-3004-57d9-a3fa-4b972b9785f6', 'Rubio Meets Saudi Crown Prince for Talks on Gaza and Ukraine', 'Patrick Kingsley and Ismaeel Naar', '2025-02-17T05:17:28-05:00', 'https://www.nytimes.com/2025/02/17/world/middleeast/rubio-saudi-arabia-gaza-ukraine.html', 'world')\n",
      "('nyt://article/775f9786-1284-54e2-a88c-34fe85bb5d34', 'European Leaders Meet in Paris as U.S. Pushes Ahead With Ukraine Plan', 'Catherine Porter and Steven Erlanger', '2025-02-17T06:26:39-05:00', 'https://www.nytimes.com/2025/02/17/world/europe/europe-paris-ukraine-talks.html', 'world')\n",
      "('nyt://article/c24514eb-d6de-5791-9fe1-4914957f37cb', 'Trump’s Threats Against Canada Upend Conservative’s Playbook', 'Norimitsu Onishi', '2025-02-17T05:02:28-05:00', 'https://www.nytimes.com/2025/02/17/world/americas/trump-canada-pierre-poilievre.html', 'world')\n",
      "('nyt://article/259ead3a-7b18-5592-8291-deb62e58e3de', 'Israel Says It Will Keep Troops ‘Temporarily’ in 5 Points in Lebanon', 'Patrick Kingsley and Euan Ward', '2025-02-17T10:05:07-05:00', 'https://www.nytimes.com/2025/02/17/world/israel-lebanon-troops-remain.html', 'world')\n",
      "('nyt://article/9cb26b2a-a5d9-5020-a0bb-f976031bac22', 'South African Imam and Gay Rights Advocate Is Shot Dead', 'Matthew Mpoke Bigg', '2025-02-17T13:29:35-05:00', 'https://www.nytimes.com/2025/02/17/world/africa/south-african-imam-gay-rights-dead.html', 'world')\n"
     ]
    }
   ],
   "source": [
    "# Extract relevant article details\n",
    "articles = []\n",
    "for article in data['results']:\n",
    "    article_id = article.get('uri', 'N/A')\n",
    "    title = article.get('title', 'No Title')\n",
    "    author = article.get('byline', '').replace(\"By \", \"\")  # Remove 'By' before author(s)\n",
    "    published_date = article.get('published_date', None)\n",
    "    url = article.get('url', 'No URL')\n",
    "    section = article.get('section', 'No Section')\n",
    "\n",
    "    articles.append((article_id, title, author, published_date, url, section))\n",
    "\n",
    "print(\"\\nFirst 5 articles:\")\n",
    "for a in articles[:5]:\n",
    "    print(a)"
   ]
  },
  {
   "cell_type": "code",
   "execution_count": 4,
   "id": "ef561a0e-cd57-44dc-b3f8-bc2aeaf4087a",
   "metadata": {},
   "outputs": [],
   "source": [
    "conn = mysql.connector.connect(\n",
    "    host=\"localhost\",\n",
    "    user=\"root\",\n",
    "    password=password,\n",
    "    database=\"nyt_pipeline\")\n",
    "\n",
    "cursor = conn.cursor()"
   ]
  },
  {
   "cell_type": "code",
   "execution_count": 5,
   "id": "47ce5bf1-ac19-4fcd-8d06-f899a12f989d",
   "metadata": {},
   "outputs": [
    {
     "name": "stdout",
     "output_type": "stream",
     "text": [
      "New articles inserted into nyt_staging successfully!\n"
     ]
    }
   ],
   "source": [
    "# Query to insert only new articles into nyt_staging\n",
    "insert_query = \"\"\"\n",
    "INSERT IGNORE INTO nyt_staging (article_id, title, author, published_date, url, section)\n",
    "VALUES (%s, %s, %s, %s, %s, %s);\n",
    "\"\"\"\n",
    "\n",
    "cursor.executemany(insert_query, articles)\n",
    "conn.commit()\n",
    "\n",
    "print(\"New articles inserted into nyt_staging successfully!\")"
   ]
  },
  {
   "cell_type": "code",
   "execution_count": 6,
   "id": "bd41b00f-a8a9-45c3-94eb-a17467e76cc8",
   "metadata": {},
   "outputs": [
    {
     "name": "stderr",
     "output_type": "stream",
     "text": [
      "2025-02-17 14:40:50,412 - INFO - Executing SQL: \n",
      "INSERT INTO nyt_articles (article_id, title, author, published_date, url, section)\n",
      "SELECT s.article_id, s.title, s.author, s.published_date, s.url, s.section\n",
      "FROM nyt_staging s\n",
      "WHERE NOT EXISTS (\n",
      "    SELECT 1 FROM nyt_articles a \n",
      "    WHERE a.article_id = s.article_id);\n",
      "\n"
     ]
    },
    {
     "name": "stdout",
     "output_type": "stream",
     "text": [
      "Data moved to nyt_articles successfully!\n"
     ]
    }
   ],
   "source": [
    "# SQL query to move only new articles from nyt_staging to nyt_articles\n",
    "insert_final_query = \"\"\"\n",
    "INSERT INTO nyt_articles (article_id, title, author, published_date, url, section)\n",
    "SELECT s.article_id, s.title, s.author, s.published_date, s.url, s.section\n",
    "FROM nyt_staging s\n",
    "WHERE NOT EXISTS (\n",
    "    SELECT 1 FROM nyt_articles a \n",
    "    WHERE a.article_id = s.article_id);\n",
    "\"\"\"\n",
    "\n",
    "logging.info(f\"Executing SQL: {insert_final_query}\")\n",
    "cursor.execute(insert_final_query)\n",
    "conn.commit()\n",
    "\n",
    "print(\"Data moved to nyt_articles successfully!\")"
   ]
  },
  {
   "cell_type": "code",
   "execution_count": 7,
   "id": "2d37c240-67ff-4f83-86e2-8ec73b950b51",
   "metadata": {},
   "outputs": [
    {
     "name": "stdout",
     "output_type": "stream",
     "text": [
      "Fetched 38 articles\n",
      "Rubio Meets Saudi Crown Prince for Talks on Gaza and Ukraine - 2025-02-17T05:17:28-05:00\n",
      "European Leaders Meet in Paris as U.S. Pushes Ahead With Ukraine Plan - 2025-02-17T06:26:39-05:00\n",
      "Trump’s Threats Against Canada Upend Conservative’s Playbook - 2025-02-17T05:02:28-05:00\n",
      "Israel Says It Will Keep Troops ‘Temporarily’ in 5 Points in Lebanon - 2025-02-17T10:05:07-05:00\n",
      "South African Imam and Gay Rights Advocate Is Shot Dead - 2025-02-17T13:29:35-05:00\n"
     ]
    }
   ],
   "source": [
    "API_KEY = os.getenv(\"NYT_API_KEY\")\n",
    "URL = f\"https://api.nytimes.com/svc/topstories/v2/world.json?api-key={API_KEY}\"\n",
    "\n",
    "response = requests.get(URL)\n",
    "data = response.json()\n",
    "\n",
    "print(\"Fetched\", len(data['results']), \"articles\")\n",
    "for article in data['results'][:5]:\n",
    "    print(article['title'], \"-\", article['published_date'])"
   ]
  },
  {
   "cell_type": "code",
   "execution_count": 8,
   "id": "8def791a-b7eb-4e19-9fef-c6afc63e0c5a",
   "metadata": {},
   "outputs": [
    {
     "name": "stdout",
     "output_type": "stream",
     "text": [
      "Slack alert sent successfully!\n"
     ]
    }
   ],
   "source": [
    "slack_webhook_url = os.getenv(\"SLACK_WEBHOOK_URL\")\n",
    "if not slack_webhook_url:\n",
    "    print(\"Slack Webhook URL not found.\")\n",
    "else:\n",
    "    message = {\n",
    "        \"text\": \":warning: *Test Alert!* :warning:\\n\\nThis is a test message from your NYT Pipeline.\"\n",
    "    }\n",
    "    response = requests.post(slack_webhook_url, data=json.dumps(message), headers={\"Content-Type\": \"application/json\"})\n",
    "    if response.status_code == 200:\n",
    "        print(\"Slack alert sent successfully!\")\n",
    "    else:\n",
    "        print(f\"Failed to send Slack alert: {response.text}\")"
   ]
  }
 ],
 "metadata": {
  "kernelspec": {
   "display_name": "Python 3 (ipykernel)",
   "language": "python",
   "name": "python3"
  },
  "language_info": {
   "codemirror_mode": {
    "name": "ipython",
    "version": 3
   },
   "file_extension": ".py",
   "mimetype": "text/x-python",
   "name": "python",
   "nbconvert_exporter": "python",
   "pygments_lexer": "ipython3",
   "version": "3.11.3"
  }
 },
 "nbformat": 4,
 "nbformat_minor": 5
}
 
